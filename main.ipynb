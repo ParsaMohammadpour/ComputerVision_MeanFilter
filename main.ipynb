{
  "nbformat": 4,
  "nbformat_minor": 0,
  "metadata": {
    "colab": {
      "provenance": []
    },
    "kernelspec": {
      "name": "python3",
      "display_name": "Python 3"
    },
    "language_info": {
      "name": "python"
    }
  },
  "cells": [
    {
      "cell_type": "code",
      "source": [
        "pip install mahotas"
      ],
      "metadata": {
        "colab": {
          "base_uri": "https://localhost:8080/"
        },
        "id": "TMog_p1a93XV",
        "outputId": "5c6c50ac-ed5e-444d-dea8-74c208d25e21"
      },
      "execution_count": 29,
      "outputs": [
        {
          "output_type": "stream",
          "name": "stdout",
          "text": [
            "Looking in indexes: https://pypi.org/simple, https://us-python.pkg.dev/colab-wheels/public/simple/\n",
            "Collecting mahotas\n",
            "  Downloading mahotas-1.4.13-cp37-cp37m-manylinux_2_12_x86_64.manylinux2010_x86_64.whl (5.7 MB)\n",
            "\u001b[K     |████████████████████████████████| 5.7 MB 9.5 MB/s \n",
            "\u001b[?25hRequirement already satisfied: numpy in /usr/local/lib/python3.7/dist-packages (from mahotas) (1.21.6)\n",
            "Installing collected packages: mahotas\n",
            "Successfully installed mahotas-1.4.13\n"
          ]
        }
      ]
    },
    {
      "cell_type": "code",
      "source": [
        "import cv2\n",
        "from google.colab.patches import cv2_imshow\n",
        "import numpy as np\n",
        "import mahotas"
      ],
      "metadata": {
        "id": "zSK4Wu9V487A"
      },
      "execution_count": 30,
      "outputs": []
    },
    {
      "cell_type": "code",
      "execution_count": 6,
      "metadata": {
        "colab": {
          "base_uri": "https://localhost:8080/"
        },
        "id": "Zu7uwDc-ROWl",
        "outputId": "a411e2bd-02c6-4a8e-df80-5cd76acb74d1"
      },
      "outputs": [
        {
          "output_type": "stream",
          "name": "stdout",
          "text": [
            "Mounted at /content/drive\n"
          ]
        }
      ],
      "source": [
        "from google.colab import drive\n",
        "drive.mount('/content/drive')"
      ]
    },
    {
      "cell_type": "code",
      "source": [
        "def load_image(path):\n",
        "  original_img = cv2.imread(path, cv2.IMREAD_GRAYSCALE)\n",
        "  cv2_imshow(original_img)\n",
        "  return original_img"
      ],
      "metadata": {
        "id": "TZ4D0dmVSjow"
      },
      "execution_count": 20,
      "outputs": []
    },
    {
      "cell_type": "code",
      "source": [
        "path = '/content/drive/MyDrive/Computer Vision/Fig0333(a)(test_pattern_blurring_orig).tif'\n",
        "img = load_image(path)\n",
        "# print(img[100])\n",
        "# n = 3\n",
        "# new_img = mahotas.mean_filter(img, n)\n",
        "# cv2_imshow(new_img)\n",
        "# print(new_img[100])\n",
        "# n = 5\n",
        "# new_img = mahotas.mean_filter(img, n)\n",
        "# cv2_imshow(new_img)\n",
        "# print(new_img[100])\n",
        "# n = 7\n",
        "# new_img = mahotas.mean_filter(img, n)\n",
        "# cv2_imshow(new_img)\n",
        "# print(new_img[100])\n",
        "arr = np.arange(25).reshape(5, 5)\n",
        "print(arr)\n",
        "# print('****************************************')\n",
        "# print(mahotas.mean_filter(arr, 3))\n",
        "# print('****************************************')\n",
        "# print(mahotas.mean_filter(arr, 5))\n",
        "print(mahotas.mean_filter(arr, 3) - mahotas.mean_filter(arr, 5))"
      ],
      "metadata": {
        "colab": {
          "base_uri": "https://localhost:8080/",
          "height": 702
        },
        "id": "xKMdvwtJ6mfF",
        "outputId": "50f146d4-8acc-48b0-926d-d57d1a58b5f4"
      },
      "execution_count": 53,
      "outputs": [
        {
          "output_type": "display_data",
          "data": {
            "text/plain": [
              "<PIL.Image.Image image mode=L size=500x500 at 0x7FF6A5338FD0>"
            ],
            "image/png": "[encoded data removed]"
          },
          "metadata": {}
        },
        {
          "output_type": "stream",
          "name": "stdout",
          "text": [
            "[[ 0  1  2  3  4]\n",
            " [ 5  6  7  8  9]\n",
            " [10 11 12 13 14]\n",
            " [15 16 17 18 19]\n",
            " [20 21 22 23 24]]\n",
            "[[0. 0. 0. 0. 0.]\n",
            " [0. 0. 0. 0. 0.]\n",
            " [0. 0. 0. 0. 0.]\n",
            " [0. 0. 0. 0. 0.]\n",
            " [0. 0. 0. 0. 0.]]\n"
          ]
        }
      ]
    }
  ]
}